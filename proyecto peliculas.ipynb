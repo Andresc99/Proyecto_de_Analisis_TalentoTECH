{
 "cells": [
  {
   "cell_type": "code",
   "execution_count": 17,
   "metadata": {},
   "outputs": [],
   "source": [
    "import pandas as pd"
   ]
  },
  {
   "cell_type": "code",
   "execution_count": 18,
   "metadata": {},
   "outputs": [
    {
     "data": {
      "text/html": [
       "<div>\n",
       "<style scoped>\n",
       "    .dataframe tbody tr th:only-of-type {\n",
       "        vertical-align: middle;\n",
       "    }\n",
       "\n",
       "    .dataframe tbody tr th {\n",
       "        vertical-align: top;\n",
       "    }\n",
       "\n",
       "    .dataframe thead th {\n",
       "        text-align: right;\n",
       "    }\n",
       "</style>\n",
       "<table border=\"1\" class=\"dataframe\">\n",
       "  <thead>\n",
       "    <tr style=\"text-align: right;\">\n",
       "      <th></th>\n",
       "      <th>Position</th>\n",
       "      <th>Const</th>\n",
       "      <th>Created</th>\n",
       "      <th>Modified</th>\n",
       "      <th>Description</th>\n",
       "      <th>Title</th>\n",
       "      <th>Original Title</th>\n",
       "      <th>URL</th>\n",
       "      <th>Title Type</th>\n",
       "      <th>IMDb Rating</th>\n",
       "      <th>Runtime (mins)</th>\n",
       "      <th>Year</th>\n",
       "      <th>Genres</th>\n",
       "      <th>Num Votes</th>\n",
       "      <th>Release Date</th>\n",
       "      <th>Directors</th>\n",
       "    </tr>\n",
       "  </thead>\n",
       "  <tbody>\n",
       "    <tr>\n",
       "      <th>0</th>\n",
       "      <td>1</td>\n",
       "      <td>tt7286456</td>\n",
       "      <td>11/10/2019</td>\n",
       "      <td>11/10/2019</td>\n",
       "      <td>How can I describe something that my feeling c...</td>\n",
       "      <td>Joker</td>\n",
       "      <td>Joker</td>\n",
       "      <td>https://www.imdb.com/title/tt7286456/</td>\n",
       "      <td>PelÃ­cula</td>\n",
       "      <td>8.4</td>\n",
       "      <td>122</td>\n",
       "      <td>2019</td>\n",
       "      <td>CRIMEN</td>\n",
       "      <td>1561802</td>\n",
       "      <td>10/4/2019</td>\n",
       "      <td>Todd Phillips</td>\n",
       "    </tr>\n",
       "    <tr>\n",
       "      <th>1</th>\n",
       "      <td>2</td>\n",
       "      <td>tt8637428</td>\n",
       "      <td>11/4/2019</td>\n",
       "      <td>11/4/2019</td>\n",
       "      <td>Beautifully crafted, infinitely humane, joyous...</td>\n",
       "      <td>The Farewell</td>\n",
       "      <td>The Farewell</td>\n",
       "      <td>https://www.imdb.com/title/tt8637428/</td>\n",
       "      <td>PelÃ­cula</td>\n",
       "      <td>7.5</td>\n",
       "      <td>100</td>\n",
       "      <td>2019</td>\n",
       "      <td>Comedia</td>\n",
       "      <td>72698</td>\n",
       "      <td>11/8/2019</td>\n",
       "      <td>Lulu Wang</td>\n",
       "    </tr>\n",
       "    <tr>\n",
       "      <th>2</th>\n",
       "      <td>3</td>\n",
       "      <td>tt2935510</td>\n",
       "      <td>12/8/2019</td>\n",
       "      <td>12/8/2019</td>\n",
       "      <td>A beautiful and moving piece. Science Fiction ...</td>\n",
       "      <td>Ad Astra</td>\n",
       "      <td>Ad Astra</td>\n",
       "      <td>https://www.imdb.com/title/tt2935510/</td>\n",
       "      <td>PelÃ­cula</td>\n",
       "      <td>6.5</td>\n",
       "      <td>123</td>\n",
       "      <td>2019</td>\n",
       "      <td>AVENTURA</td>\n",
       "      <td>265696</td>\n",
       "      <td>9/20/2019</td>\n",
       "      <td>James Gray</td>\n",
       "    </tr>\n",
       "    <tr>\n",
       "      <th>3</th>\n",
       "      <td>4</td>\n",
       "      <td>tt7131622</td>\n",
       "      <td>11/3/2019</td>\n",
       "      <td>11/3/2019</td>\n",
       "      <td>This movie does everything a movie should - ta...</td>\n",
       "      <td>Ã‰rase una vez en... Hollywood</td>\n",
       "      <td>Once Upon a Time in... Hollywood</td>\n",
       "      <td>https://www.imdb.com/title/tt7131622/</td>\n",
       "      <td>PelÃ­cula</td>\n",
       "      <td>7.6</td>\n",
       "      <td>161</td>\n",
       "      <td>2019</td>\n",
       "      <td>Comedia</td>\n",
       "      <td>878480</td>\n",
       "      <td>8/15/2019</td>\n",
       "      <td>Quentin Tarantino</td>\n",
       "    </tr>\n",
       "    <tr>\n",
       "      <th>4</th>\n",
       "      <td>5</td>\n",
       "      <td>tt6751668</td>\n",
       "      <td>8/17/2019</td>\n",
       "      <td>8/17/2019</td>\n",
       "      <td>Engaging and bonkers film that is worth it for...</td>\n",
       "      <td>ParÃ¡sitos</td>\n",
       "      <td>Gisaengchung</td>\n",
       "      <td>https://www.imdb.com/title/tt6751668/</td>\n",
       "      <td>PelÃ­cula</td>\n",
       "      <td>8.5</td>\n",
       "      <td>132</td>\n",
       "      <td>2019</td>\n",
       "      <td>drama</td>\n",
       "      <td>1009079</td>\n",
       "      <td>10/25/2019</td>\n",
       "      <td>Bong Joon Ho</td>\n",
       "    </tr>\n",
       "  </tbody>\n",
       "</table>\n",
       "</div>"
      ],
      "text/plain": [
       "   Position      Const     Created    Modified  \\\n",
       "0         1  tt7286456  11/10/2019  11/10/2019   \n",
       "1         2  tt8637428   11/4/2019   11/4/2019   \n",
       "2         3  tt2935510   12/8/2019   12/8/2019   \n",
       "3         4  tt7131622   11/3/2019   11/3/2019   \n",
       "4         5  tt6751668   8/17/2019   8/17/2019   \n",
       "\n",
       "                                         Description  \\\n",
       "0  How can I describe something that my feeling c...   \n",
       "1  Beautifully crafted, infinitely humane, joyous...   \n",
       "2  A beautiful and moving piece. Science Fiction ...   \n",
       "3  This movie does everything a movie should - ta...   \n",
       "4  Engaging and bonkers film that is worth it for...   \n",
       "\n",
       "                            Title                    Original Title  \\\n",
       "0                           Joker                             Joker   \n",
       "1                    The Farewell                      The Farewell   \n",
       "2                        Ad Astra                          Ad Astra   \n",
       "3  Ã‰rase una vez en... Hollywood  Once Upon a Time in... Hollywood   \n",
       "4                      ParÃ¡sitos                      Gisaengchung   \n",
       "\n",
       "                                     URL Title Type  IMDb Rating  \\\n",
       "0  https://www.imdb.com/title/tt7286456/  PelÃ­cula          8.4   \n",
       "1  https://www.imdb.com/title/tt8637428/  PelÃ­cula          7.5   \n",
       "2  https://www.imdb.com/title/tt2935510/  PelÃ­cula          6.5   \n",
       "3  https://www.imdb.com/title/tt7131622/  PelÃ­cula          7.6   \n",
       "4  https://www.imdb.com/title/tt6751668/  PelÃ­cula          8.5   \n",
       "\n",
       "   Runtime (mins)  Year    Genres  Num Votes Release Date          Directors  \n",
       "0             122  2019    CRIMEN    1561802    10/4/2019      Todd Phillips  \n",
       "1             100  2019   Comedia      72698    11/8/2019          Lulu Wang  \n",
       "2             123  2019  AVENTURA     265696    9/20/2019         James Gray  \n",
       "3             161  2019   Comedia     878480    8/15/2019  Quentin Tarantino  \n",
       "4             132  2019     drama    1009079   10/25/2019       Bong Joon Ho  "
      ]
     },
     "execution_count": 18,
     "metadata": {},
     "output_type": "execute_result"
    }
   ],
   "source": [
    "ruta = r'c:\\Users\\ACER-PC\\Downloads\\Data Set top peliculas 2019 - Reto.csv'\n",
    "df = pd.read_csv(ruta, encoding='ansi')\n",
    "df.head()\n"
   ]
  },
  {
   "cell_type": "code",
   "execution_count": 19,
   "metadata": {},
   "outputs": [
    {
     "name": "stdout",
     "output_type": "stream",
     "text": [
      "<class 'pandas.core.frame.DataFrame'>\n",
      "RangeIndex: 100 entries, 0 to 99\n",
      "Data columns (total 16 columns):\n",
      " #   Column          Non-Null Count  Dtype  \n",
      "---  ------          --------------  -----  \n",
      " 0   Position        100 non-null    int64  \n",
      " 1   Const           100 non-null    object \n",
      " 2   Created         100 non-null    object \n",
      " 3   Modified        100 non-null    object \n",
      " 4   Description     100 non-null    object \n",
      " 5   Title           100 non-null    object \n",
      " 6   Original Title  100 non-null    object \n",
      " 7   URL             100 non-null    object \n",
      " 8   Title Type      100 non-null    object \n",
      " 9   IMDb Rating     100 non-null    float64\n",
      " 10  Runtime (mins)  100 non-null    int64  \n",
      " 11  Year            100 non-null    int64  \n",
      " 12  Genres          100 non-null    object \n",
      " 13  Num Votes       100 non-null    int64  \n",
      " 14  Release Date    100 non-null    object \n",
      " 15  Directors       100 non-null    object \n",
      "dtypes: float64(1), int64(4), object(11)\n",
      "memory usage: 12.6+ KB\n"
     ]
    }
   ],
   "source": [
    "df.info()"
   ]
  },
  {
   "cell_type": "code",
   "execution_count": 20,
   "metadata": {},
   "outputs": [],
   "source": [
    "# Borra Columnas no utiles para el analisis\n",
    "df.drop(columns=['Position', 'Const','Description','URL', 'Title'],inplace=True)"
   ]
  },
  {
   "cell_type": "code",
   "execution_count": 21,
   "metadata": {},
   "outputs": [],
   "source": [
    "# Capitalizamos los Generos y corrige errores de escritura\n",
    "df['Genres'] = df['Genres'].str.capitalize()\n",
    "df['Title Type'] = df['Title Type'].str.capitalize().str.replace('Pelã­cula', 'Pelicula')"
   ]
  },
  {
   "cell_type": "code",
   "execution_count": 22,
   "metadata": {},
   "outputs": [
    {
     "data": {
      "text/html": [
       "<div>\n",
       "<style scoped>\n",
       "    .dataframe tbody tr th:only-of-type {\n",
       "        vertical-align: middle;\n",
       "    }\n",
       "\n",
       "    .dataframe tbody tr th {\n",
       "        vertical-align: top;\n",
       "    }\n",
       "\n",
       "    .dataframe thead th {\n",
       "        text-align: right;\n",
       "    }\n",
       "</style>\n",
       "<table border=\"1\" class=\"dataframe\">\n",
       "  <thead>\n",
       "    <tr style=\"text-align: right;\">\n",
       "      <th></th>\n",
       "      <th>Created</th>\n",
       "      <th>Modified</th>\n",
       "      <th>Original Title</th>\n",
       "      <th>Title Type</th>\n",
       "      <th>IMDb Rating</th>\n",
       "      <th>Runtime (mins)</th>\n",
       "      <th>Year</th>\n",
       "      <th>Genres</th>\n",
       "      <th>Num Votes</th>\n",
       "      <th>Release Date</th>\n",
       "      <th>Directors</th>\n",
       "    </tr>\n",
       "  </thead>\n",
       "  <tbody>\n",
       "    <tr>\n",
       "      <th>0</th>\n",
       "      <td>11/10/2019</td>\n",
       "      <td>11/10/2019</td>\n",
       "      <td>Joker</td>\n",
       "      <td>Pelicula</td>\n",
       "      <td>8.4</td>\n",
       "      <td>122</td>\n",
       "      <td>2019</td>\n",
       "      <td>Crimen</td>\n",
       "      <td>1561802</td>\n",
       "      <td>10/4/2019</td>\n",
       "      <td>Todd Phillips</td>\n",
       "    </tr>\n",
       "  </tbody>\n",
       "</table>\n",
       "</div>"
      ],
      "text/plain": [
       "      Created    Modified Original Title Title Type  IMDb Rating  \\\n",
       "0  11/10/2019  11/10/2019          Joker   Pelicula          8.4   \n",
       "\n",
       "   Runtime (mins)  Year  Genres  Num Votes Release Date      Directors  \n",
       "0             122  2019  Crimen    1561802    10/4/2019  Todd Phillips  "
      ]
     },
     "execution_count": 22,
     "metadata": {},
     "output_type": "execute_result"
    }
   ],
   "source": [
    "df.head(1)"
   ]
  },
  {
   "cell_type": "code",
   "execution_count": 23,
   "metadata": {},
   "outputs": [
    {
     "data": {
      "text/plain": [
       "Created         0\n",
       "Modified        0\n",
       "Release Date    0\n",
       "dtype: int64"
      ]
     },
     "execution_count": 23,
     "metadata": {},
     "output_type": "execute_result"
    }
   ],
   "source": [
    "columna_fechas = ['Created', 'Modified', 'Release Date']\n",
    "\n",
    "for columna in columna_fechas:\n",
    "    df[columna] = pd.to_datetime(df[columna], errors='coerce')\n",
    "\n",
    "df.select_dtypes(include='datetime').isna().sum()"
   ]
  },
  {
   "cell_type": "code",
   "execution_count": 32,
   "metadata": {},
   "outputs": [],
   "source": [
    "df.to_csv(r'c:\\Users\\ACER-PC\\Downloads\\Data Set top peliculas 2019 limpio.csv', index=False, encoding='UTF-8')"
   ]
  }
 ],
 "metadata": {
  "kernelspec": {
   "display_name": "Python 3",
   "language": "python",
   "name": "python3"
  },
  "language_info": {
   "codemirror_mode": {
    "name": "ipython",
    "version": 3
   },
   "file_extension": ".py",
   "mimetype": "text/x-python",
   "name": "python",
   "nbconvert_exporter": "python",
   "pygments_lexer": "ipython3",
   "version": "3.12.7"
  }
 },
 "nbformat": 4,
 "nbformat_minor": 2
}
